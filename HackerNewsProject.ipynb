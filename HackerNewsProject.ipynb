{
 "cells": [
  {
   "cell_type": "markdown",
   "metadata": {
    "collapsed": true
   },
   "source": [
    "#             Hacker News Project - time analysis\n",
    "\n",
    "Hacker News is a site started by the startup incubator Y Combinator, where user-submitted stories (known as \"posts\") are voted and commented upon, similar to reddit. Hacker News is extremely popular in technology and startup circles, and posts that make it to the top of Hacker News' listings can get hundreds of thousands of visitors as a result.\n",
    "\n",
    "The aim of this project is :\n",
    "\n",
    " 1. To determine if show or ask posts receive more points on average.\n",
    " 2. To determine if posts created at a certain time are more likely to receive \n",
    "    more comments and more points.\n",
    " 3. To determine if posts will be more at certain hour of the day."
   ]
  },
  {
   "cell_type": "code",
   "execution_count": 60,
   "metadata": {
    "collapsed": false
   },
   "outputs": [
    {
     "name": "stdout",
     "output_type": "stream",
     "text": [
      "[['id', 'title', 'url', 'num_points', 'num_comments', 'author', 'created_at'], ['12224879', 'Interactive Dynamic Video', 'http://www.interactivedynamicvideo.com/', '386', '52', 'ne0phyte', '8/4/2016 11:52'], ['10975351', 'How to Use Open Source and Shut the Fuck Up at the Same Time', 'http://hueniverse.com/2016/01/26/how-to-use-open-source-and-shut-the-fuck-up-at-the-same-time/', '39', '10', 'josep2', '1/26/2016 19:30'], ['11964716', \"Florida DJs May Face Felony for April Fools' Water Joke\", 'http://www.thewire.com/entertainment/2013/04/florida-djs-april-fools-water-joke/63798/', '2', '1', 'vezycash', '6/23/2016 22:20'], ['11919867', 'Technology ventures: From Idea to Enterprise', 'https://www.amazon.com/Technology-Ventures-Enterprise-Thomas-Byers/dp/0073523429', '3', '1', 'hswarna', '6/17/2016 0:01']]\n"
     ]
    }
   ],
   "source": [
    "#Reading the hacker_news.csv file in as a list of lists\n",
    "\n",
    "from csv import reader # importing reader from csv module\n",
    "opened_file = open('hacker_news.csv')\n",
    "read_file = reader(opened_file) \n",
    "hn = list(read_file) #Assigning the result to the variable hn.\n",
    "print(hn[:5]) # displaying the first 5 rows including the header\n"
   ]
  },
  {
   "cell_type": "code",
   "execution_count": 61,
   "metadata": {
    "collapsed": false
   },
   "outputs": [
    {
     "name": "stdout",
     "output_type": "stream",
     "text": [
      "['id', 'title', 'url', 'num_points', 'num_comments', 'author', 'created_at']\n",
      "\n",
      "\n",
      "[['12224879', 'Interactive Dynamic Video', 'http://www.interactivedynamicvideo.com/', '386', '52', 'ne0phyte', '8/4/2016 11:52'], ['10975351', 'How to Use Open Source and Shut the Fuck Up at the Same Time', 'http://hueniverse.com/2016/01/26/how-to-use-open-source-and-shut-the-fuck-up-at-the-same-time/', '39', '10', 'josep2', '1/26/2016 19:30'], ['11964716', \"Florida DJs May Face Felony for April Fools' Water Joke\", 'http://www.thewire.com/entertainment/2013/04/florida-djs-april-fools-water-joke/63798/', '2', '1', 'vezycash', '6/23/2016 22:20'], ['11919867', 'Technology ventures: From Idea to Enterprise', 'https://www.amazon.com/Technology-Ventures-Enterprise-Thomas-Byers/dp/0073523429', '3', '1', 'hswarna', '6/17/2016 0:01'], ['10301696', 'Note by Note: The Making of Steinway L1037 (2007)', 'http://www.nytimes.com/2007/11/07/movies/07stein.html?_r=0', '8', '2', 'walterbell', '9/30/2015 4:12']]\n"
     ]
    }
   ],
   "source": [
    "\n",
    "headers = hn[0] # assining header(column names) row to \"headers\"\n",
    "print(headers) #displaying the header(column names) row\n",
    "print(\"\\n\")\n",
    "\n",
    "hn = hn[1:] # seperating the headers row(first row) from the other rows in(hn)\n",
    "print(hn[:5])# displaying the first 5 rows to verify that now variable \"hn\" don't have header row. "
   ]
  },
  {
   "cell_type": "markdown",
   "metadata": {},
   "source": [
    "## Filtering the Data\n",
    "Creating new lists of lists containing just the data for **\"Ask HN\"** and **\"Show HN\"** titles"
   ]
  },
  {
   "cell_type": "code",
   "execution_count": 62,
   "metadata": {
    "collapsed": false
   },
   "outputs": [
    {
     "name": "stdout",
     "output_type": "stream",
     "text": [
      "1744\n",
      "1162\n",
      "17194\n",
      "\n",
      "\n",
      "The first 5 rown in ask_posts:   [['12296411', 'Ask HN: How to improve my personal website?', '', '2', '6', 'ahmedbaracat', '8/16/2016 9:55'], ['10610020', 'Ask HN: Am I the only one outraged by Twitter shutting down share counts?', '', '28', '29', 'tkfx', '11/22/2015 13:43'], ['11610310', 'Ask HN: Aby recent changes to CSS that broke mobile?', '', '1', '1', 'polskibus', '5/2/2016 10:14'], ['12210105', 'Ask HN: Looking for Employee #3 How do I do it?', '', '1', '3', 'sph130', '8/2/2016 14:20'], ['10394168', 'Ask HN: Someone offered to buy my browser extension from me. What now?', '', '28', '17', 'roykolak', '10/15/2015 16:38']]\n",
      "\n",
      "\n",
      "The first 5 rown in show_posts:   [['10627194', 'Show HN: Wio Link  ESP8266 Based Web of Things Hardware Development Platform', 'https://iot.seeed.cc', '26', '22', 'kfihihc', '11/25/2015 14:03'], ['10646440', 'Show HN: Something pointless I made', 'http://dn.ht/picklecat/', '747', '102', 'dhotson', '11/29/2015 22:46'], ['11590768', 'Show HN: Shanhu.io, a programming playground powered by e8vm', 'https://shanhu.io', '1', '1', 'h8liu', '4/28/2016 18:05'], ['12178806', 'Show HN: Webscope  Easy way for web developers to communicate with Clients', 'http://webscopeapp.com', '3', '3', 'fastbrick', '7/28/2016 7:11'], ['10872799', 'Show HN: GeoScreenshot  Easily test Geo-IP based web pages', 'https://www.geoscreenshot.com/', '1', '9', 'kpsychwave', '1/9/2016 20:45']]\n",
      "\n",
      "\n",
      "The first 5 rown in other_posts:   [['12224879', 'Interactive Dynamic Video', 'http://www.interactivedynamicvideo.com/', '386', '52', 'ne0phyte', '8/4/2016 11:52'], ['10975351', 'How to Use Open Source and Shut the Fuck Up at the Same Time', 'http://hueniverse.com/2016/01/26/how-to-use-open-source-and-shut-the-fuck-up-at-the-same-time/', '39', '10', 'josep2', '1/26/2016 19:30'], ['11964716', \"Florida DJs May Face Felony for April Fools' Water Joke\", 'http://www.thewire.com/entertainment/2013/04/florida-djs-april-fools-water-joke/63798/', '2', '1', 'vezycash', '6/23/2016 22:20'], ['11919867', 'Technology ventures: From Idea to Enterprise', 'https://www.amazon.com/Technology-Ventures-Enterprise-Thomas-Byers/dp/0073523429', '3', '1', 'hswarna', '6/17/2016 0:01'], ['10301696', 'Note by Note: The Making of Steinway L1037 (2007)', 'http://www.nytimes.com/2007/11/07/movies/07stein.html?_r=0', '8', '2', 'walterbell', '9/30/2015 4:12']]\n"
     ]
    }
   ],
   "source": [
    "#creating three empty lists\n",
    "ask_posts = []\n",
    "show_posts = []\n",
    "other_posts = []\n",
    "\n",
    "for row in hn:\n",
    "    title = row[1] #Assigning the title in each row to a variable \"title\"\n",
    "    #Because the title column is the second column, we need element at index 1 in each row.\n",
    "    lc_v_title = title.lower() # converting the values in \"title\" to lowercase and assinging it to \"lc_v_title\"\n",
    "    if lc_v_title.startswith('ask hn'):\n",
    "        ask_posts.append(row)\n",
    "    elif lc_v_title.startswith('show hn'):\n",
    "            show_posts.append(row)\n",
    "    else:\n",
    "        other_posts.append(row)\n",
    "#Checking the number of posts in ask_posts, show_posts, and other_posts.        \n",
    "print(len(ask_posts))\n",
    "print(len(show_posts))\n",
    "print(len(other_posts))  \n",
    "\n",
    "# displaying the first 5 rows of our newly created lists \"ask_posts\" , \"show_posts\" ,\"other_posts\"\n",
    "print('\\n')\n",
    "print(\"The first 5 rown in ask_posts:  \" ,ask_posts[:5])\n",
    "print('\\n')\n",
    "print(\"The first 5 rown in show_posts:  \",show_posts[:5])\n",
    "print('\\n')\n",
    "print(\"The first 5 rown in other_posts:  \" ,other_posts[:5])\n",
    "        \n",
    "\n"
   ]
  },
  {
   "cell_type": "markdown",
   "metadata": {},
   "source": [
    "### Another way to display the Ask_Posts and Show_Posts using function. "
   ]
  },
  {
   "cell_type": "code",
   "execution_count": 63,
   "metadata": {
    "collapsed": false
   },
   "outputs": [
    {
     "name": "stdout",
     "output_type": "stream",
     "text": [
      "['id', 'title', 'url', 'num_points', 'num_comments', 'author', 'created_at']\n",
      "\n",
      "\n",
      "['12296411', 'Ask HN: How to improve my personal website?', '', '2', '6', 'ahmedbaracat', '8/16/2016 9:55']\n",
      "\n",
      "\n",
      "['10610020', 'Ask HN: Am I the only one outraged by Twitter shutting down share counts?', '', '28', '29', 'tkfx', '11/22/2015 13:43']\n",
      "\n",
      "\n",
      "['11610310', 'Ask HN: Aby recent changes to CSS that broke mobile?', '', '1', '1', 'polskibus', '5/2/2016 10:14']\n",
      "\n",
      "\n",
      "Number of rows: 1744\n",
      "Number of columns: 7\n",
      "\n",
      "\n",
      "['id', 'title', 'url', 'num_points', 'num_comments', 'author', 'created_at']\n",
      "\n",
      "\n",
      "['10627194', 'Show HN: Wio Link  ESP8266 Based Web of Things Hardware Development Platform', 'https://iot.seeed.cc', '26', '22', 'kfihihc', '11/25/2015 14:03']\n",
      "\n",
      "\n",
      "['10646440', 'Show HN: Something pointless I made', 'http://dn.ht/picklecat/', '747', '102', 'dhotson', '11/29/2015 22:46']\n",
      "\n",
      "\n",
      "['11590768', 'Show HN: Shanhu.io, a programming playground powered by e8vm', 'https://shanhu.io', '1', '1', 'h8liu', '4/28/2016 18:05']\n",
      "\n",
      "\n",
      "Number of rows: 1162\n",
      "Number of columns: 7\n"
     ]
    }
   ],
   "source": [
    "def explore_data(dataset, start, end, rows_and_columns=False):\n",
    "    dataset_slice = dataset[start:end]    \n",
    "    for row in dataset_slice:\n",
    "        print(row)\n",
    "        print('\\n') # adds a new (empty) line after each row\n",
    "\n",
    "    if rows_and_columns:\n",
    "        print('Number of rows:', len(dataset))\n",
    "        print('Number of columns:', len(dataset[0]))\n",
    "              \n",
    "print(headers) # prints the column names of the dataset \n",
    "print('\\n')\n",
    "explore_data(ask_posts, 0, 3, True) # when this function is called, it prints first 3 rows from the \"Ask_posts\"        \n",
    "print('\\n')      \n",
    "print(headers) \n",
    "print('\\n')\n",
    "explore_data(show_posts, 0, 3, True)# when this function is called, it prints first 3 rows from the \"Show_posts\""
   ]
  },
  {
   "cell_type": "markdown",
   "metadata": {},
   "source": [
    "## To determine if **\"ask posts\"** or **\"show posts\"** receive more comments on average"
   ]
  },
  {
   "cell_type": "code",
   "execution_count": 64,
   "metadata": {
    "collapsed": false
   },
   "outputs": [
    {
     "name": "stdout",
     "output_type": "stream",
     "text": [
      "24483\n",
      "1744\n",
      "The average num of comments on ask-posts:  14.038417431192661\n",
      "\n",
      "\n",
      "11988\n",
      "1162\n",
      "The average num of comments on show-posts:  10.31669535283993\n"
     ]
    }
   ],
   "source": [
    "# This section shows the average value of comments for \"ask_posts\".\n",
    "\n",
    "total_ask_comments = 0\n",
    "len_of_total_ask_comments = 0\n",
    "for i in ask_posts:\n",
    "    num_ask_comments = int(i[4]) #the num_comments column is the fifth column in ask_posts.\n",
    "                                #So the element at index 4 in each row is assgined as \"num_ask_comments\"\n",
    "    total_ask_comments += num_ask_comments #total number of comments in ask posts and assigning it to total_ask_comments\n",
    "    len_of_total_ask_comments += 1\n",
    "    #len(total_ask_comments)  \n",
    "avg_ask_comments = total_ask_comments / len_of_total_ask_comments\n",
    "print(total_ask_comments)\n",
    "print(len_of_total_ask_comments)\n",
    "print(\"The average num of comments on ask-posts: \" ,avg_ask_comments)\n",
    "\n",
    "#.......................................................................\n",
    "#This section shows the average value of  comments for \"show_posts\".\n",
    "num_show_comments = 0\n",
    "total_show_comments = 0\n",
    "len_of_total_show_comments = 0\n",
    "for j in show_posts:\n",
    "    num_show_comments = int(j[4])\n",
    "    total_show_comments += num_show_comments\n",
    "    len_of_total_show_comments += 1\n",
    "    #len(total_show_comments)  \n",
    "    #num_show_comments += 1\n",
    "avg_show_comments = total_show_comments / len_of_total_show_comments\n",
    "\n",
    "#avg_show_comments = total_show_comments / num_show_comments\n",
    "print('\\n')\n",
    "print(total_show_comments)\n",
    "print(len_of_total_show_comments)\n",
    "print(\"The average num of comments on show-posts: \",avg_show_comments)"
   ]
  },
  {
   "cell_type": "markdown",
   "metadata": {},
   "source": [
    "### **\"ask_posts\"** received more comments on average"
   ]
  },
  {
   "cell_type": "markdown",
   "metadata": {
    "collapsed": true
   },
   "source": [
    "## Calculating the amount of ask posts created per hour, along with the total amount of comments"
   ]
  },
  {
   "cell_type": "code",
   "execution_count": 73,
   "metadata": {
    "collapsed": false
   },
   "outputs": [
    {
     "name": "stdout",
     "output_type": "stream",
     "text": [
      "[['8/16/2016 9:55', 6], ['11/22/2015 13:43', 29], ['5/2/2016 10:14', 1], ['8/2/2016 14:20', 3], ['10/15/2015 16:38', 17]]\n",
      "\n",
      "\n",
      "The number of posts at that hour : {'15': 116, '11': 58, '21': 109, '04': 47, '16': 108, '01': 60, '05': 46, '19': 110, '10': 59, '08': 48, '18': 109, '02': 58, '03': 54, '09': 45, '06': 44, '07': 34, '20': 80, '12': 73, '23': 68, '13': 85, '17': 100, '14': 107, '00': 55, '22': 71}\n",
      "\n",
      "\n",
      "The number of comments at that hour :  {'15': 232, '11': 116, '21': 218, '04': 94, '16': 216, '01': 120, '05': 92, '19': 220, '10': 118, '08': 96, '18': 218, '02': 116, '03': 108, '09': 90, '06': 88, '07': 68, '20': 160, '12': 146, '23': 136, '13': 170, '17': 200, '14': 214, '00': 110, '22': 142}\n"
     ]
    }
   ],
   "source": [
    "#Importing the \"datetime\" module and aliasing it as dt.\n",
    "import datetime as dt\n",
    "result_list = []\n",
    "#Iterating over ask_posts and appending to result_list a list with two elements\n",
    "for r in ask_posts:\n",
    "    posted_created = r[6]\n",
    "    num_comments = int(r[4]) # converting the value to an integer and assigning it to a variable \"num_comments\"\n",
    "    list1 = [posted_created , num_comments]\n",
    "    result_list.append(list1)\n",
    "print(result_list[:5]) \n",
    "#Creating two empty dictionaries called counts_by_hour and comments_by_hour.\n",
    "counts_by_hour = {}\n",
    "comments_by_hour = {}\n",
    "for row in result_list:   #Looping through each row of result_list.\n",
    "    date_1_str = row[0]   \n",
    "    date_1_dt = dt.datetime.strptime(date_1_str,\"%m/%d/%Y %H:%M\")\n",
    "    hour_comments = date_1_dt.strftime(\"%H\") #Extracting the hour from the date\n",
    "    if hour_comments not in counts_by_hour:\n",
    "        counts_by_hour[hour_comments] = 1\n",
    "        comments_by_hour[hour_comments] = num_comments\n",
    "    else:\n",
    "        counts_by_hour[hour_comments] += 1\n",
    "        comments_by_hour[hour_comments] += num_comments\n",
    "        \n",
    "#print(result_list[:5])\n",
    "print('\\n')\n",
    "print(\"The number of posts at that hour :\" ,counts_by_hour)\n",
    "print('\\n')\n",
    "\n",
    "print(\"The number of comments at that hour : \" , comments_by_hour)"
   ]
  },
  {
   "cell_type": "markdown",
   "metadata": {},
   "source": [
    "## creating a list of lists containing the hours during which posts were created and the average number of comments those posts received."
   ]
  },
  {
   "cell_type": "code",
   "execution_count": 74,
   "metadata": {
    "collapsed": false
   },
   "outputs": [
    {
     "name": "stdout",
     "output_type": "stream",
     "text": [
      "Average number of comments per post [['15', 116.0], ['11', 29.0], ['21', 36.333333333333336], ['04', 11.75], ['16', 21.6], ['01', 10.0], ['05', 6.571428571428571], ['19', 13.75], ['10', 6.555555555555555], ['08', 4.8], ['18', 9.909090909090908], ['02', 4.833333333333333], ['03', 4.153846153846154], ['09', 3.2142857142857144], ['06', 2.933333333333333], ['07', 2.125], ['20', 4.705882352941177], ['12', 4.055555555555555], ['23', 3.5789473684210527], ['13', 4.25], ['17', 4.761904761904762], ['14', 4.863636363636363], ['00', 2.391304347826087], ['22', 2.9583333333333335]]\n"
     ]
    }
   ],
   "source": [
    "# Calculating the average number of comments per post for posts created during each hour of the day\n",
    "\n",
    "avg_by_hour1 =[]\n",
    "tot = 0\n",
    "for hour_comments in comments_by_hour:\n",
    "    for h in hour_comments: # looping over to get the average number of comments each Hour\n",
    "        tot += 1\n",
    "        #leng = len(comments_by_hour)\n",
    "        avg1 = comments_by_hour[hour_comments]/tot\n",
    "    \n",
    "    avg_by_hour1.append([hour_comments, avg1])\n",
    "      \n",
    "print(\"Average number of comments per post\",avg_by_hour1)\n"
   ]
  },
  {
   "cell_type": "markdown",
   "metadata": {},
   "source": [
    "## Sorting the list of lists and printing the five highest values in a format that's easier to read."
   ]
  },
  {
   "cell_type": "code",
   "execution_count": 76,
   "metadata": {
    "collapsed": false
   },
   "outputs": [
    {
     "name": "stdout",
     "output_type": "stream",
     "text": [
      "The swapped values of avg_by_hour:  [[116.0, '15'], [29.0, '11'], [36.333333333333336, '21'], [11.75, '04'], [21.6, '16'], [10.0, '01'], [6.571428571428571, '05'], [13.75, '19'], [6.555555555555555, '10'], [4.8, '08'], [9.909090909090908, '18'], [4.833333333333333, '02'], [4.153846153846154, '03'], [3.2142857142857144, '09'], [2.933333333333333, '06'], [2.125, '07'], [4.705882352941177, '20'], [4.055555555555555, '12'], [3.5789473684210527, '23'], [4.25, '13'], [4.761904761904762, '17'], [4.863636363636363, '14'], [2.391304347826087, '00'], [2.9583333333333335, '22']]\n",
      "\n",
      "\n",
      "Swapped values in the decesending order:  [[116.0, '15'], [36.333333333333336, '21'], [29.0, '11'], [21.6, '16'], [13.75, '19'], [11.75, '04'], [10.0, '01'], [9.909090909090908, '18'], [6.571428571428571, '05'], [6.555555555555555, '10'], [4.863636363636363, '14'], [4.833333333333333, '02'], [4.8, '08'], [4.761904761904762, '17'], [4.705882352941177, '20'], [4.25, '13'], [4.153846153846154, '03'], [4.055555555555555, '12'], [3.5789473684210527, '23'], [3.2142857142857144, '09'], [2.9583333333333335, '22'], [2.933333333333333, '06'], [2.391304347826087, '00'], [2.125, '07']]\n",
      "\n",
      "\n",
      "Top 5 Hours for Ask Posts Comments\n",
      "The first five values in the swapped list:  15:00: 116.00 average comments per post.\n",
      "The first five values in the swapped list:  21:00: 36.33 average comments per post.\n",
      "The first five values in the swapped list:  11:00: 29.00 average comments per post.\n",
      "The first five values in the swapped list:  16:00: 21.60 average comments per post.\n",
      "The first five values in the swapped list:  19:00: 13.75 average comments per post.\n"
     ]
    }
   ],
   "source": [
    "#Creating a list \"swap_avg_by_hour\" that equals \"avg_by_hour\" with swapped columns\n",
    "swap_avg_by_hour = []\n",
    "list1 = []\n",
    "for row in avg_by_hour1: # Swapping the values in the list \"avg_by_hour1\"\n",
    "    l1 = row[1]\n",
    "    l2 = row[0]\n",
    "    list1 = [l1 , l2]\n",
    "    swap_avg_by_hour.append(list1)\n",
    "print(\"The swapped values of avg_by_hour: \" ,swap_avg_by_hour) \n",
    "\n",
    "#sorting swap_avg_by_hour in descending order\n",
    "print('\\n')\n",
    "sorted_swap = sorted(swap_avg_by_hour, reverse=True)\n",
    "print(\"Swapped values in the decesending order: \" ,sorted_swap)\n",
    "print('\\n')\n",
    "print(\"Top 5 Hours for Ask Posts Comments\")\n",
    "\n",
    "#Print the top 5 Hours for Ask Posts Comments\n",
    "for ag , hr in sorted_swap[:5]:\n",
    "    hr1 = dt.datetime.strptime(hr, \"%H\") \n",
    "    hr_formated = hr1.strftime(\"%H:%M\")\n",
    "    \n",
    "    template = \"{hour}: {avg:.2f} average comments per post.\"\n",
    "    \n",
    "    output = template.format(hour=hr_formated, avg=ag)\n",
    "    print(\"The first five values in the swapped list: \", output)\n",
    "    \n",
    "#.............................................................................  \n",
    "    #naive_dt = dt.strptime(hr_formated, \"%H:%M\")\n",
    "    #aware_dt = local_timezone.localize(naive_dt, is_dst=None)\n",
    "#print(aware_dt)"
   ]
  },
  {
   "cell_type": "markdown",
   "metadata": {},
   "source": [
    "#### Since the average  for num of comments is more during the hours  of ** \"15:00\" (3 PM) **, followed by ** \"21:00\" ( 9 PM)** and ** 11:00 **. The posts created during these hours have higher chance of receiving comments."
   ]
  },
  {
   "cell_type": "markdown",
   "metadata": {},
   "source": [
    "## Determing posts created at a what time are more likely to receive more points"
   ]
  },
  {
   "cell_type": "code",
   "execution_count": 69,
   "metadata": {
    "collapsed": false
   },
   "outputs": [
    {
     "name": "stdout",
     "output_type": "stream",
     "text": [
      "26268\n",
      "1744\n",
      "The average of more-points in ask-posts:  15.061926605504587\n",
      "\n",
      "\n",
      "32019\n",
      "1162\n",
      "The average of more-points in show-posts:  27.555077452667813\n"
     ]
    }
   ],
   "source": [
    "# To determine if show or ask posts receive more points on average\n",
    "# This section shows the average value of more-points for \"ask_posts\".\n",
    "total_ask_num_points = 0\n",
    "len_of_total_ask_num_points = 0\n",
    "for i in ask_posts:\n",
    "    num_of_points_ask = int(i[3])\n",
    "    total_ask_num_points += num_of_points_ask\n",
    "    len_of_total_ask_num_points += 1\n",
    "     \n",
    "avg_ask_num_points = total_ask_num_points / len_of_total_ask_num_points\n",
    "print(total_ask_num_points)\n",
    "print(len_of_total_ask_num_points)\n",
    "print(\"The average of more-points in ask-posts: \" ,avg_ask_num_points)\n",
    "\n",
    "#.......................................................................\n",
    "#This section shows the average value of  comments for \"show_posts\".\n",
    "#num_show_comments = 0\n",
    "total_show_num_points = 0\n",
    "len_of_total_show_num_points = 0\n",
    "for j in show_posts:\n",
    "    num_of_points_show = int(j[3])\n",
    "    total_show_num_points += num_of_points_show\n",
    "    len_of_total_show_num_points += 1\n",
    "avg_show_num_points = total_show_num_points / len_of_total_show_num_points\n",
    "\n",
    "print('\\n')\n",
    "print(total_show_num_points)\n",
    "print(len_of_total_show_num_points)\n",
    "print(\"The average of more-points in show-posts: \",avg_show_num_points)\n"
   ]
  },
  {
   "cell_type": "markdown",
   "metadata": {},
   "source": [
    "The ** \"show-posts\"** receive more-points on Average"
   ]
  },
  {
   "cell_type": "markdown",
   "metadata": {},
   "source": [
    "## Determing the Results for Show_Posts."
   ]
  },
  {
   "cell_type": "code",
   "execution_count": 79,
   "metadata": {
    "collapsed": false
   },
   "outputs": [
    {
     "name": "stdout",
     "output_type": "stream",
     "text": [
      "[['11/25/2015 14:03', 26], ['11/29/2015 22:46', 747], ['4/28/2016 18:05', 1], ['7/28/2016 7:11', 3], ['1/9/2016 20:45', 1]]\n",
      "\n",
      "\n",
      "The number of posts at that hour : {'15': 78, '11': 44, '21': 47, '04': 26, '16': 93, '01': 28, '05': 19, '03': 27, '10': 36, '08': 34, '18': 61, '02': 30, '19': 55, '09': 30, '06': 16, '07': 26, '20': 60, '12': 61, '14': 86, '13': 99, '17': 93, '23': 36, '00': 31, '22': 46}\n",
      "\n",
      "\n",
      "The num_points at that hour :  {'15': 468, '11': 264, '21': 282, '04': 156, '16': 558, '01': 168, '05': 114, '03': 162, '10': 216, '08': 204, '18': 366, '02': 180, '19': 330, '09': 180, '06': 96, '07': 156, '20': 360, '12': 366, '14': 516, '13': 594, '17': 558, '23': 216, '00': 186, '22': 276}\n"
     ]
    }
   ],
   "source": [
    "# Finding the \"number of posts\" and \"num_points\" at that particular hour\n",
    "\n",
    "#Importing the \"datetime\" module and aliasing it as dt.\n",
    "import datetime as dt\n",
    "result_list = []\n",
    "\n",
    "for r in show_posts:\n",
    "    posted_created = r[6]\n",
    "    num_of_points = int(r[3])  \n",
    "    list1 = [posted_created , num_of_points]\n",
    "    result_list.append(list1)\n",
    "print(result_list[:5]) \n",
    "\n",
    "counts_by_hour = {}\n",
    "num_of_points_by_hour = {}\n",
    "for row in result_list:   \n",
    "    date_1_str = row[0]   \n",
    "    date_1_dt = dt.datetime.strptime(date_1_str,\"%m/%d/%Y %H:%M\")\n",
    "    hour_comments = date_1_dt.strftime(\"%H\")\n",
    "    if hour_comments not in counts_by_hour:\n",
    "        counts_by_hour[hour_comments] = 1\n",
    "        num_of_points_by_hour[hour_comments] = num_of_points\n",
    "    else:\n",
    "        counts_by_hour[hour_comments] += 1\n",
    "        num_of_points_by_hour[hour_comments] += num_of_points\n",
    "        \n",
    "#print(result_list[:5])\n",
    "print('\\n')\n",
    "print(\"The number of posts at that hour :\" ,counts_by_hour)\n",
    "print('\\n')\n",
    "\n",
    "print(\"The num_points at that hour : \" , num_of_points_by_hour)"
   ]
  },
  {
   "cell_type": "code",
   "execution_count": 80,
   "metadata": {
    "collapsed": false
   },
   "outputs": [
    {
     "name": "stdout",
     "output_type": "stream",
     "text": [
      "Average number of comments per post [['15', 234.0], ['11', 66.0], ['21', 47.0], ['04', 19.5], ['16', 55.8], ['01', 14.0], ['05', 8.142857142857142], ['03', 10.125], ['10', 12.0], ['08', 10.2], ['18', 16.636363636363637], ['02', 7.5], ['19', 12.692307692307692], ['09', 6.428571428571429], ['06', 3.2], ['07', 4.875], ['20', 10.588235294117647], ['12', 10.166666666666666], ['14', 13.578947368421053], ['13', 14.85], ['17', 13.285714285714286], ['23', 4.909090909090909], ['00', 4.043478260869565], ['22', 5.75]]\n"
     ]
    }
   ],
   "source": [
    "# Calculating the average of num_points per post for posts created during each hour of the day\n",
    "# for Show_Posts\n",
    "avg_by_hour2 =[]\n",
    "tot = 0\n",
    "for hour_points in num_of_points_by_hour:\n",
    "    for h in hour_points:\n",
    "        tot += 1\n",
    "        \n",
    "        avg2 = num_of_points_by_hour[hour_points]/tot\n",
    "    \n",
    "    avg_by_hour2.append([hour_points, avg2])\n",
    "      \n",
    "print(\"Average number of comments per post\",avg_by_hour2)\n"
   ]
  },
  {
   "cell_type": "code",
   "execution_count": 81,
   "metadata": {
    "collapsed": false,
    "scrolled": true
   },
   "outputs": [
    {
     "name": "stdout",
     "output_type": "stream",
     "text": [
      "The swapped values of avg_by_hour:  [[234.0, '15'], [66.0, '11'], [47.0, '21'], [19.5, '04'], [55.8, '16'], [14.0, '01'], [8.142857142857142, '05'], [10.125, '03'], [12.0, '10'], [10.2, '08'], [16.636363636363637, '18'], [7.5, '02'], [12.692307692307692, '19'], [6.428571428571429, '09'], [3.2, '06'], [4.875, '07'], [10.588235294117647, '20'], [10.166666666666666, '12'], [13.578947368421053, '14'], [14.85, '13'], [13.285714285714286, '17'], [4.909090909090909, '23'], [4.043478260869565, '00'], [5.75, '22']]\n",
      "\n",
      "\n",
      "Swapped values in the decesending order:  [[234.0, '15'], [66.0, '11'], [55.8, '16'], [47.0, '21'], [19.5, '04'], [16.636363636363637, '18'], [14.85, '13'], [14.0, '01'], [13.578947368421053, '14'], [13.285714285714286, '17'], [12.692307692307692, '19'], [12.0, '10'], [10.588235294117647, '20'], [10.2, '08'], [10.166666666666666, '12'], [10.125, '03'], [8.142857142857142, '05'], [7.5, '02'], [6.428571428571429, '09'], [5.75, '22'], [4.909090909090909, '23'], [4.875, '07'], [4.043478260869565, '00'], [3.2, '06']]\n",
      "\n",
      "\n",
      "Top 5 Hours for show Posts Comments\n",
      "The first five values in the swapped list:  15:00: 234.00 average more_points per post.\n",
      "The first five values in the swapped list:  11:00: 66.00 average more_points per post.\n",
      "The first five values in the swapped list:  16:00: 55.80 average more_points per post.\n",
      "The first five values in the swapped list:  21:00: 47.00 average more_points per post.\n",
      "The first five values in the swapped list:  04:00: 19.50 average more_points per post.\n"
     ]
    }
   ],
   "source": [
    "# Swapping the values in \"avg_by_hour2\" and sorting the average values\n",
    "swap_avg_by_hour = []\n",
    "list1 = []\n",
    "for row in avg_by_hour2:\n",
    "    l1 = row[1]\n",
    "    l2 = row[0]\n",
    "    list1 = [l1 , l2]\n",
    "    swap_avg_by_hour.append(list1)\n",
    "print(\"The swapped values of avg_by_hour: \" ,swap_avg_by_hour) \n",
    "\n",
    "#sorting \"swap_avg_by_hour\" in descending order\n",
    "\n",
    "print('\\n')\n",
    "sorted_swap = sorted(swap_avg_by_hour, reverse=True)\n",
    "print(\"Swapped values in the decesending order: \" ,sorted_swap)\n",
    "print('\\n')\n",
    "print(\"Top 5 Hours for show Posts Comments\")\n",
    "# displaying the top 5 hours for \"show_Post\" comments\n",
    "for ag , hr in sorted_swap[:5]:\n",
    "    hr1 = dt.datetime.strptime(hr, \"%H\") \n",
    "    hr_formated = hr1.strftime(\"%H:%M\")\n",
    "    \n",
    "    template = \"{hour}: {avg:.2f} average more_points per post.\"\n",
    "    \n",
    "    output = template.format(hour=hr_formated, avg=ag)\n",
    "    print(\"The first five values in the swapped list: \", output)"
   ]
  },
  {
   "cell_type": "markdown",
   "metadata": {
    "collapsed": true
   },
   "source": [
    "### The posts created at certain time are more likey to receive more-points.  \n",
    " 1. In case of \"**show-posts**\" , posts created at \"15:00 (3 PM) most likey will     have more num-points. Followed by 11:00 and 16:00(4 Pm).\n",
    " 2. The average number of comments  and points other posts receive also more \n",
    "    at 15:00(3 PM)."
   ]
  },
  {
   "cell_type": "markdown",
   "metadata": {},
   "source": [
    "##                     Conclusion\n",
    "\n",
    "The posts created at certain time are more likey to receive more-points and more number of comments on an average.\n",
    "\n",
    "A. Ask_Posts recieved more of comments on an average.\n",
    "  1. Ask-posts created at \"15:00\" on an average has more number of comments.\n",
    "  2. Number of posts are also more at 15:00(3 pm).\n",
    "\n",
    "B. Show posts has more number of num_points.\n",
    "  1. In case of \"**show-posts**\" , posts created at \"15:00 (3 PM) most likey \n",
    "     will have more num-points. Followed by 11:00 and 16:00(4 Pm).\n",
    "  2. The average number of comments  and points other posts receive also more \n",
    "     at 15:00(3 PM).\n",
    "     "
   ]
  }
 ],
 "metadata": {
  "kernelspec": {
   "display_name": "Python 3",
   "language": "python",
   "name": "python3"
  },
  "language_info": {
   "codemirror_mode": {
    "name": "ipython",
    "version": 3
   },
   "file_extension": ".py",
   "mimetype": "text/x-python",
   "name": "python",
   "nbconvert_exporter": "python",
   "pygments_lexer": "ipython3",
   "version": "3.4.3"
  }
 },
 "nbformat": 4,
 "nbformat_minor": 2
}
